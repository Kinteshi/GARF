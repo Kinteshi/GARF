{
 "cells": [
  {
   "cell_type": "code",
   "execution_count": 1,
   "metadata": {
    "pycharm": {
     "is_executing": false
    }
   },
   "outputs": [],
   "source": [
    "\n",
    "import re\n",
    "import numpy as np"
   ]
  },
  {
   "cell_type": "code",
   "execution_count": 29,
   "metadata": {
    "pycharm": {
     "is_executing": false
    }
   },
   "outputs": [],
   "source": [
    "\n",
    "time_by_gen = []\n",
    "time_by_eval = []\n",
    "time_pre_oob = []\n",
    "time_oob = []\n",
    "\n",
    "with open('buff.out', 'r') as file:\n",
    "    for line in file:\n",
    "        if re.search(r'Gen\\d==>[0-9]+[.]{1}[0-9]*', line):\n",
    "\n",
    "            time_by_gen.append(float(re.search(r'[0-9]+[.]{1}[0-9]*', line).group()))\n",
    "\n",
    "        elif re.search(r'Evaluate==>[0-9]+[.]*[0-9]*', line):\n",
    "            \n",
    "            time_by_eval.append(float(re.search(r'[0-9]+[.]*[0-9]*', line).group()))\n",
    "\n",
    "        elif re.search(r'preOOB==>[0-9]+[.]*[0-9]*', line):\n",
    "\n",
    "            time_pre_oob.append(float(re.search(r'[0-9]+[.]*[0-9]*', line).group()))\n",
    "\n",
    "        elif re.search(r'OOB==>[0-9]+[.]*[0-9]*', line):\n",
    "\n",
    "            time_oob.append(float(re.search(r'[0-9]+[.]{1}[0-9]*', line).group()))\n",
    "\n",
    "    file.close()"
   ]
  },
  {
   "cell_type": "code",
   "execution_count": 30,
   "metadata": {
    "pycharm": {
     "is_executing": false
    }
   },
   "outputs": [
    {
     "data": {
      "text/plain": "90.95414811167224"
     },
     "metadata": {},
     "output_type": "execute_result",
     "execution_count": 30
    }
   ],
   "source": [
    "np.mean(time_oob)"
   ]
  },
  {
   "cell_type": "code",
   "execution_count": 31,
   "metadata": {
    "pycharm": {
     "is_executing": false
    }
   },
   "outputs": [
    {
     "data": {
      "text/plain": "119.9914779663086"
     },
     "metadata": {},
     "output_type": "execute_result",
     "execution_count": 31
    }
   ],
   "source": [
    "np.mean(time_by_eval)"
   ]
  },
  {
   "cell_type": "code",
   "execution_count": 32,
   "metadata": {
    "pycharm": {
     "is_executing": false,
     "name": "#%%\n"
    }
   },
   "outputs": [
    {
     "data": {
      "text/plain": "1171.6694173812866"
     },
     "metadata": {},
     "output_type": "execute_result",
     "execution_count": 32
    }
   ],
   "source": [
    "np.mean(time_by_gen)\n"
   ]
  },
  {
   "cell_type": "code",
   "execution_count": 33,
   "outputs": [
    {
     "data": {
      "text/plain": "3515.00825214386"
     },
     "metadata": {},
     "output_type": "execute_result",
     "execution_count": 33
    }
   ],
   "source": [
    "np.sum(time_by_gen)"
   ],
   "metadata": {
    "collapsed": false,
    "pycharm": {
     "name": "#%%\n",
     "is_executing": false
    }
   }
  },
  {
   "cell_type": "code",
   "execution_count": 34,
   "outputs": [
    {
     "data": {
      "text/plain": "-10.556994676589966"
     },
     "metadata": {},
     "output_type": "execute_result",
     "execution_count": 34
    }
   ],
   "source": [
    "np.sum(time_by_eval[10:20]) - time_by_gen[1]"
   ],
   "metadata": {
    "collapsed": false,
    "pycharm": {
     "name": "#%%\n",
     "is_executing": false
    }
   }
  },
  {
   "cell_type": "code",
   "execution_count": null,
   "outputs": [],
   "source": [
    "\n"
   ],
   "metadata": {
    "collapsed": false,
    "pycharm": {
     "name": "#%%\n"
    }
   }
  }
 ],
 "metadata": {
  "kernelspec": {
   "display_name": "Python 3.7.6 64-bit ('RFEP': pipenv)",
   "language": "python",
   "name": "python37664bitrfeppipenv4ebf1f1cb2db4b0dad86d96b3e3a84ca"
  },
  "language_info": {
   "codemirror_mode": {
    "name": "ipython",
    "version": 2
   },
   "file_extension": ".py",
   "mimetype": "text/x-python",
   "name": "python",
   "nbconvert_exporter": "python",
   "pygments_lexer": "ipython2",
   "version": "3.7.6-final"
  },
  "pycharm": {
   "stem_cell": {
    "cell_type": "raw",
    "source": [],
    "metadata": {
     "collapsed": false
    }
   }
  }
 },
 "nbformat": 4,
 "nbformat_minor": 0
}